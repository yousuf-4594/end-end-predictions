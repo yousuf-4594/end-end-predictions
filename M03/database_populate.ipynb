{
  "nbformat": 4,
  "nbformat_minor": 0,
  "metadata": {
    "colab": {
      "provenance": []
    },
    "kernelspec": {
      "name": "python3",
      "display_name": "Python 3"
    },
    "language_info": {
      "name": "python"
    }
  },
  "cells": [
    {
      "cell_type": "markdown",
      "source": [
        "# Imports"
      ],
      "metadata": {
        "id": "Y8-1lW3GP_3G"
      }
    },
    {
      "cell_type": "code",
      "source": [
        "!pip install supabase"
      ],
      "metadata": {
        "colab": {
          "base_uri": "https://localhost:8080/"
        },
        "id": "seOuJ6EGRRmW",
        "outputId": "0f9c4c75-ced9-43d8-d73e-9f6b158de347"
      },
      "execution_count": 6,
      "outputs": [
        {
          "output_type": "stream",
          "name": "stdout",
          "text": [
            "Collecting supabase\n",
            "  Downloading supabase-2.10.0-py3-none-any.whl.metadata (10 kB)\n",
            "Collecting gotrue<3.0.0,>=2.10.0 (from supabase)\n",
            "  Downloading gotrue-2.10.0-py3-none-any.whl.metadata (6.0 kB)\n",
            "Requirement already satisfied: httpx<0.28,>=0.26 in /usr/local/lib/python3.10/dist-packages (from supabase) (0.27.2)\n",
            "Collecting postgrest<0.19,>=0.18 (from supabase)\n",
            "  Downloading postgrest-0.18.0-py3-none-any.whl.metadata (3.4 kB)\n",
            "Collecting realtime<3.0.0,>=2.0.0 (from supabase)\n",
            "  Downloading realtime-2.0.6-py3-none-any.whl.metadata (6.7 kB)\n",
            "Collecting storage3<0.10.0,>=0.9.0 (from supabase)\n",
            "  Downloading storage3-0.9.0-py3-none-any.whl.metadata (1.8 kB)\n",
            "Collecting supafunc<0.8.0,>=0.7.0 (from supabase)\n",
            "  Downloading supafunc-0.7.0-py3-none-any.whl.metadata (1.1 kB)\n",
            "Requirement already satisfied: pydantic<3,>=1.10 in /usr/local/lib/python3.10/dist-packages (from gotrue<3.0.0,>=2.10.0->supabase) (2.9.2)\n",
            "Requirement already satisfied: anyio in /usr/local/lib/python3.10/dist-packages (from httpx<0.28,>=0.26->supabase) (3.7.1)\n",
            "Requirement already satisfied: certifi in /usr/local/lib/python3.10/dist-packages (from httpx<0.28,>=0.26->supabase) (2024.8.30)\n",
            "Requirement already satisfied: httpcore==1.* in /usr/local/lib/python3.10/dist-packages (from httpx<0.28,>=0.26->supabase) (1.0.6)\n",
            "Requirement already satisfied: idna in /usr/local/lib/python3.10/dist-packages (from httpx<0.28,>=0.26->supabase) (3.10)\n",
            "Requirement already satisfied: sniffio in /usr/local/lib/python3.10/dist-packages (from httpx<0.28,>=0.26->supabase) (1.3.1)\n",
            "Requirement already satisfied: h11<0.15,>=0.13 in /usr/local/lib/python3.10/dist-packages (from httpcore==1.*->httpx<0.28,>=0.26->supabase) (0.14.0)\n",
            "Collecting deprecation<3.0.0,>=2.1.0 (from postgrest<0.19,>=0.18->supabase)\n",
            "  Downloading deprecation-2.1.0-py2.py3-none-any.whl.metadata (4.6 kB)\n",
            "Requirement already satisfied: strenum<0.5.0,>=0.4.9 in /usr/local/lib/python3.10/dist-packages (from postgrest<0.19,>=0.18->supabase) (0.4.15)\n",
            "Requirement already satisfied: aiohttp<4.0.0,>=3.10.10 in /usr/local/lib/python3.10/dist-packages (from realtime<3.0.0,>=2.0.0->supabase) (3.11.1)\n",
            "Requirement already satisfied: python-dateutil<3.0.0,>=2.8.1 in /usr/local/lib/python3.10/dist-packages (from realtime<3.0.0,>=2.0.0->supabase) (2.8.2)\n",
            "Requirement already satisfied: typing-extensions<5.0.0,>=4.12.2 in /usr/local/lib/python3.10/dist-packages (from realtime<3.0.0,>=2.0.0->supabase) (4.12.2)\n",
            "Collecting websockets<14,>=11 (from realtime<3.0.0,>=2.0.0->supabase)\n",
            "  Downloading websockets-13.1-cp310-cp310-manylinux_2_5_x86_64.manylinux1_x86_64.manylinux_2_17_x86_64.manylinux2014_x86_64.whl.metadata (6.8 kB)\n",
            "Requirement already satisfied: aiohappyeyeballs>=2.3.0 in /usr/local/lib/python3.10/dist-packages (from aiohttp<4.0.0,>=3.10.10->realtime<3.0.0,>=2.0.0->supabase) (2.4.3)\n",
            "Requirement already satisfied: aiosignal>=1.1.2 in /usr/local/lib/python3.10/dist-packages (from aiohttp<4.0.0,>=3.10.10->realtime<3.0.0,>=2.0.0->supabase) (1.3.1)\n",
            "Requirement already satisfied: attrs>=17.3.0 in /usr/local/lib/python3.10/dist-packages (from aiohttp<4.0.0,>=3.10.10->realtime<3.0.0,>=2.0.0->supabase) (24.2.0)\n",
            "Requirement already satisfied: frozenlist>=1.1.1 in /usr/local/lib/python3.10/dist-packages (from aiohttp<4.0.0,>=3.10.10->realtime<3.0.0,>=2.0.0->supabase) (1.5.0)\n",
            "Requirement already satisfied: multidict<7.0,>=4.5 in /usr/local/lib/python3.10/dist-packages (from aiohttp<4.0.0,>=3.10.10->realtime<3.0.0,>=2.0.0->supabase) (6.1.0)\n",
            "Requirement already satisfied: propcache>=0.2.0 in /usr/local/lib/python3.10/dist-packages (from aiohttp<4.0.0,>=3.10.10->realtime<3.0.0,>=2.0.0->supabase) (0.2.0)\n",
            "Requirement already satisfied: yarl<2.0,>=1.17.0 in /usr/local/lib/python3.10/dist-packages (from aiohttp<4.0.0,>=3.10.10->realtime<3.0.0,>=2.0.0->supabase) (1.17.1)\n",
            "Requirement already satisfied: async-timeout<6.0,>=4.0 in /usr/local/lib/python3.10/dist-packages (from aiohttp<4.0.0,>=3.10.10->realtime<3.0.0,>=2.0.0->supabase) (4.0.3)\n",
            "Requirement already satisfied: packaging in /usr/local/lib/python3.10/dist-packages (from deprecation<3.0.0,>=2.1.0->postgrest<0.19,>=0.18->supabase) (24.2)\n",
            "Collecting h2<5,>=3 (from httpx[http2]<0.28,>=0.26->gotrue<3.0.0,>=2.10.0->supabase)\n",
            "  Downloading h2-4.1.0-py3-none-any.whl.metadata (3.6 kB)\n",
            "Requirement already satisfied: annotated-types>=0.6.0 in /usr/local/lib/python3.10/dist-packages (from pydantic<3,>=1.10->gotrue<3.0.0,>=2.10.0->supabase) (0.7.0)\n",
            "Requirement already satisfied: pydantic-core==2.23.4 in /usr/local/lib/python3.10/dist-packages (from pydantic<3,>=1.10->gotrue<3.0.0,>=2.10.0->supabase) (2.23.4)\n",
            "Requirement already satisfied: six>=1.5 in /usr/local/lib/python3.10/dist-packages (from python-dateutil<3.0.0,>=2.8.1->realtime<3.0.0,>=2.0.0->supabase) (1.16.0)\n",
            "Requirement already satisfied: exceptiongroup in /usr/local/lib/python3.10/dist-packages (from anyio->httpx<0.28,>=0.26->supabase) (1.2.2)\n",
            "Collecting hyperframe<7,>=6.0 (from h2<5,>=3->httpx[http2]<0.28,>=0.26->gotrue<3.0.0,>=2.10.0->supabase)\n",
            "  Downloading hyperframe-6.0.1-py3-none-any.whl.metadata (2.7 kB)\n",
            "Collecting hpack<5,>=4.0 (from h2<5,>=3->httpx[http2]<0.28,>=0.26->gotrue<3.0.0,>=2.10.0->supabase)\n",
            "  Downloading hpack-4.0.0-py3-none-any.whl.metadata (2.5 kB)\n",
            "Downloading supabase-2.10.0-py3-none-any.whl (16 kB)\n",
            "Downloading gotrue-2.10.0-py3-none-any.whl (48 kB)\n",
            "\u001b[2K   \u001b[90m━━━━━━━━━━━━━━━━━━━━━━━━━━━━━━━━━━━━━━━━\u001b[0m \u001b[32m48.6/48.6 kB\u001b[0m \u001b[31m1.8 MB/s\u001b[0m eta \u001b[36m0:00:00\u001b[0m\n",
            "\u001b[?25hDownloading postgrest-0.18.0-py3-none-any.whl (21 kB)\n",
            "Downloading realtime-2.0.6-py3-none-any.whl (20 kB)\n",
            "Downloading storage3-0.9.0-py3-none-any.whl (16 kB)\n",
            "Downloading supafunc-0.7.0-py3-none-any.whl (6.9 kB)\n",
            "Downloading deprecation-2.1.0-py2.py3-none-any.whl (11 kB)\n",
            "Downloading websockets-13.1-cp310-cp310-manylinux_2_5_x86_64.manylinux1_x86_64.manylinux_2_17_x86_64.manylinux2014_x86_64.whl (164 kB)\n",
            "\u001b[2K   \u001b[90m━━━━━━━━━━━━━━━━━━━━━━━━━━━━━━━━━━━━━━━━\u001b[0m \u001b[32m164.1/164.1 kB\u001b[0m \u001b[31m5.3 MB/s\u001b[0m eta \u001b[36m0:00:00\u001b[0m\n",
            "\u001b[?25hDownloading h2-4.1.0-py3-none-any.whl (57 kB)\n",
            "\u001b[2K   \u001b[90m━━━━━━━━━━━━━━━━━━━━━━━━━━━━━━━━━━━━━━━━\u001b[0m \u001b[32m57.5/57.5 kB\u001b[0m \u001b[31m5.2 MB/s\u001b[0m eta \u001b[36m0:00:00\u001b[0m\n",
            "\u001b[?25hDownloading hpack-4.0.0-py3-none-any.whl (32 kB)\n",
            "Downloading hyperframe-6.0.1-py3-none-any.whl (12 kB)\n",
            "Installing collected packages: websockets, hyperframe, hpack, deprecation, h2, supafunc, storage3, realtime, postgrest, gotrue, supabase\n",
            "Successfully installed deprecation-2.1.0 gotrue-2.10.0 h2-4.1.0 hpack-4.0.0 hyperframe-6.0.1 postgrest-0.18.0 realtime-2.0.6 storage3-0.9.0 supabase-2.10.0 supafunc-0.7.0 websockets-13.1\n"
          ]
        }
      ]
    },
    {
      "cell_type": "code",
      "execution_count": 7,
      "metadata": {
        "id": "BvTLw6NrP0Ia"
      },
      "outputs": [],
      "source": [
        "import pandas as pd\n",
        "import numpy as np\n",
        "from scipy import stats\n",
        "import matplotlib.pyplot as plt\n",
        "import seaborn as sns\n",
        "import plotly.express as px\n",
        "from sklearn.preprocessing import StandardScaler, MinMaxScaler, LabelEncoder, OneHotEncoder\n",
        "from sklearn.impute import SimpleImputer, KNNImputer\n",
        "from sklearn.experimental import enable_iterative_imputer\n",
        "from sklearn.impute import IterativeImputer\n",
        "from sklearn.model_selection import train_test_split, GridSearchCV, RandomizedSearchCV, cross_val_score\n",
        "from sklearn.linear_model import LogisticRegression\n",
        "from sklearn.neighbors import KNeighborsClassifier\n",
        "from sklearn.svm import SVC\n",
        "from sklearn.tree import DecisionTreeClassifier\n",
        "from sklearn.ensemble import RandomForestClassifier, GradientBoostingClassifier, AdaBoostClassifier, RandomForestRegressor\n",
        "from xgboost import XGBClassifier\n",
        "from sklearn.naive_bayes import GaussianNB\n",
        "from sklearn.pipeline import Pipeline\n",
        "from sklearn.metrics import accuracy_score, confusion_matrix, classification_report, mean_absolute_error, mean_squared_error, r2_score\n",
        "from imblearn.combine import SMOTEENN\n",
        "from scipy.stats import uniform, randint\n",
        "import plotly.graph_objs as go\n",
        "import matplotlib as mpl\n",
        "import matplotlib.patches as mpatches\n",
        "from plotly import tools\n",
        "from plotly.subplots import make_subplots\n",
        "from plotly.offline import iplot\n",
        "import kagglehub\n",
        "import shutil\n",
        "import os\n",
        "from sklearn.ensemble import VotingClassifier\n",
        "import warnings\n",
        "import pandas as pd\n",
        "from supabase import create_client, Client\n",
        "import uuid\n",
        "warnings.filterwarnings('ignore')"
      ]
    },
    {
      "cell_type": "markdown",
      "source": [
        "# Downloading Dataset"
      ],
      "metadata": {
        "id": "Lqu0YVitP9lT"
      }
    },
    {
      "cell_type": "code",
      "source": [
        "path = kagglehub.dataset_download(\"blastchar/telco-customer-churn\")\n",
        "content_dir = '/content'\n",
        "\n",
        "shutil.move(path, os.path.join(content_dir, os.path.basename(path)))\n",
        "print(\"Dataset moved to content directory:\", os.path.join(content_dir, os.path.basename(path)))"
      ],
      "metadata": {
        "colab": {
          "base_uri": "https://localhost:8080/"
        },
        "id": "acHWCXLZP7Ke",
        "outputId": "abab953e-f8f4-446e-8a34-e0bad3af57d4"
      },
      "execution_count": 2,
      "outputs": [
        {
          "output_type": "stream",
          "name": "stdout",
          "text": [
            "Downloading from https://www.kaggle.com/api/v1/datasets/download/blastchar/telco-customer-churn?dataset_version_number=1...\n"
          ]
        },
        {
          "output_type": "stream",
          "name": "stderr",
          "text": [
            "100%|██████████| 172k/172k [00:00<00:00, 25.5MB/s]"
          ]
        },
        {
          "output_type": "stream",
          "name": "stdout",
          "text": [
            "Extracting files...\n",
            "Dataset moved to content directory: /content/1\n"
          ]
        },
        {
          "output_type": "stream",
          "name": "stderr",
          "text": [
            "\n"
          ]
        }
      ]
    },
    {
      "cell_type": "code",
      "source": [
        "df = pd.read_csv(\"/content/1/WA_Fn-UseC_-Telco-Customer-Churn.csv\")"
      ],
      "metadata": {
        "id": "iwvvVfzPP8O5"
      },
      "execution_count": 39,
      "outputs": []
    },
    {
      "cell_type": "code",
      "source": [
        "df = df.dropna()\n",
        "df = df[~df.isin(['', ' ']).any(axis=1)]\n",
        "df = df.drop_duplicates()\n",
        "df.info()"
      ],
      "metadata": {
        "colab": {
          "base_uri": "https://localhost:8080/"
        },
        "id": "y-yvbyqldNLp",
        "outputId": "38d00af2-3704-480a-f00f-b01d5d597894"
      },
      "execution_count": 40,
      "outputs": [
        {
          "output_type": "stream",
          "name": "stdout",
          "text": [
            "<class 'pandas.core.frame.DataFrame'>\n",
            "Index: 7032 entries, 0 to 7042\n",
            "Data columns (total 21 columns):\n",
            " #   Column            Non-Null Count  Dtype  \n",
            "---  ------            --------------  -----  \n",
            " 0   customerID        7032 non-null   object \n",
            " 1   gender            7032 non-null   object \n",
            " 2   SeniorCitizen     7032 non-null   int64  \n",
            " 3   Partner           7032 non-null   object \n",
            " 4   Dependents        7032 non-null   object \n",
            " 5   tenure            7032 non-null   int64  \n",
            " 6   PhoneService      7032 non-null   object \n",
            " 7   MultipleLines     7032 non-null   object \n",
            " 8   InternetService   7032 non-null   object \n",
            " 9   OnlineSecurity    7032 non-null   object \n",
            " 10  OnlineBackup      7032 non-null   object \n",
            " 11  DeviceProtection  7032 non-null   object \n",
            " 12  TechSupport       7032 non-null   object \n",
            " 13  StreamingTV       7032 non-null   object \n",
            " 14  StreamingMovies   7032 non-null   object \n",
            " 15  Contract          7032 non-null   object \n",
            " 16  PaperlessBilling  7032 non-null   object \n",
            " 17  PaymentMethod     7032 non-null   object \n",
            " 18  MonthlyCharges    7032 non-null   float64\n",
            " 19  TotalCharges      7032 non-null   object \n",
            " 20  Churn             7032 non-null   object \n",
            "dtypes: float64(1), int64(2), object(18)\n",
            "memory usage: 1.2+ MB\n"
          ]
        }
      ]
    },
    {
      "cell_type": "markdown",
      "source": [
        "# Converting dataframe into supabase ingestable csvs"
      ],
      "metadata": {
        "id": "WGRn6BURQiFB"
      }
    },
    {
      "cell_type": "code",
      "source": [
        "# Customers Table\n",
        "customers_df = df[['customerID', 'gender', 'SeniorCitizen', 'Partner', 'Dependents',\n",
        "                   'tenure', 'MonthlyCharges', 'TotalCharges']]\n",
        "customers_df.columns = ['customer_id', 'gender', 'is_senior_citizen', 'has_partner',\n",
        "                        'has_dependents', 'tenure', 'monthly_charges', 'total_charges']\n",
        "\n",
        "# Convert boolean columns\n",
        "customers_df['is_senior_citizen'] = customers_df['is_senior_citizen'].astype(bool)\n",
        "customers_df['has_partner'] = (customers_df['has_partner'] == 'Yes')\n",
        "customers_df['has_dependents'] = (customers_df['has_dependents'] == 'Yes')\n",
        "\n",
        "# Phone Services Table\n",
        "phone_services_df = df[['customerID', 'PhoneService', 'MultipleLines']]\n",
        "phone_services_df.columns = ['customer_id', 'has_phone_service', 'multiple_lines']\n",
        "\n",
        "# Convert boolean column\n",
        "phone_services_df['has_phone_service'] = (phone_services_df['has_phone_service'] == 'Yes')\n",
        "\n",
        "# Internet Services Table\n",
        "internet_services_df = df[['customerID', 'InternetService', 'OnlineSecurity', 'OnlineBackup',\n",
        "                            'DeviceProtection', 'TechSupport', 'StreamingTV', 'StreamingMovies']]\n",
        "internet_services_df.columns = ['customer_id', 'internet_service', 'online_security',\n",
        "                                'online_backup', 'device_protection', 'tech_support',\n",
        "                                'streaming_tv', 'streaming_movies']\n",
        "\n",
        "# Billing Table\n",
        "billing_df = df[['customerID', 'Contract', 'PaperlessBilling', 'PaymentMethod']]\n",
        "billing_df.columns = ['customer_id', 'contract_type', 'paperless_billing', 'payment_method']\n",
        "\n",
        "# Convert boolean column\n",
        "billing_df['paperless_billing'] = (billing_df['paperless_billing'] == 'Yes')\n",
        "\n",
        "# Export to CSV\n",
        "customers_df.to_csv('customers.csv', index=False)\n",
        "phone_services_df.to_csv('phone_services.csv', index=False)\n",
        "internet_services_df.to_csv('internet_services.csv', index=False)\n",
        "billing_df.to_csv('billing.csv', index=False)\n",
        "\n",
        "print(\"CSV files exported successfully!\")"
      ],
      "metadata": {
        "colab": {
          "base_uri": "https://localhost:8080/"
        },
        "id": "sDA7lRqhb4Ka",
        "outputId": "2317260a-b500-4b67-8921-2510624c2181"
      },
      "execution_count": 41,
      "outputs": [
        {
          "output_type": "stream",
          "name": "stdout",
          "text": [
            "CSV files exported successfully!\n"
          ]
        }
      ]
    }
  ]
}